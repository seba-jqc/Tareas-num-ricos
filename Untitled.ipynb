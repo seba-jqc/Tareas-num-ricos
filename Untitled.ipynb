{
 "cells": [
  {
   "cell_type": "code",
   "execution_count": null,
   "metadata": {
    "collapsed": false
   },
   "outputs": [],
   "source": [
    "#!/usr/bin/env python\n",
    "# -*- coding: utf-8 -*-\n",
    "\n",
    "import numpy as np\n",
    "import numpy.random as npr\n",
    "import scipy as sp\n",
    "import matplotlib.pyplot as plt\n",
    "\n",
    "def rand_points(seed,n):\n",
    "    npr.seed(seed)\n",
    "    rand1=npr.random_sample(n)\n",
    "    rand2=npr.random_sample(n)\n",
    "    rand3=npr.random_sample(n)\n",
    "    return rand1, rand2, rand3\n",
    "\n",
    "'''\n",
    "El area a utilizar para el metodo de montecarlo corresponde al cilindro centrado\n",
    "en x=2, de radio 1 y que va desde y=0 hasta y=4. Con esto se tiene que:\n",
    "x: [1,3]\n",
    "y: [-4,4]\n",
    "z: [-1,1]\n",
    "Estos intervalos se utilizaran para hacer de los valores de x, y, z uniformemente\n",
    "distribuidos, de la forma x_i -> U(a,b)\n",
    "'''\n",
    "\n",
    "def montecarlo(vol,seed,n):\n",
    "    x, y, z = rand_points(seed,n)\n",
    "    X=2*x + 1 #distribucion U(1,3)\n",
    "    Y=8*y - 4#distribucion U(-4,4)\n",
    "    Z=2*z -1 #distribucion(-1.1)\n",
    "    sum_x=sum_y=sum_z=sum_m=0\n",
    "    for i in range(n):\n",
    "        if (Z[i]**2+(np.sqrt(X[i]**2+Y[i]**2)-3)**2) <= 1:\n",
    "            den = 0.5*(X[i]**2+Y[i]**2+Z[i]**2)\n",
    "            sum_m += den\n",
    "            sum_x += den*X[i]\n",
    "            sum_y += den*Y[i]\n",
    "            sum_z += den*Z[i]\n",
    "    masa=vol*sum_m/n\n",
    "    pos_x=vol*sum_x/(n*masa)\n",
    "    pos_y=vol*sum_y/(n*masa)\n",
    "    pos_z=vol*sum_z/(n*masa)\n",
    "    return masa, pos_x, pos_y, pos_z\n",
    "\n",
    "\n",
    "vec_m=np.array([])\n",
    "vec_x=np.array([])\n",
    "vec_y=np.array([])\n",
    "vec_z=np.array([])\n",
    "\n",
    "for i in range(100):\n",
    "    volumen=np.pi*8\n",
    "    m,x,y,z = montecarlo(volumen, i, 10**5)\n",
    "    vec_m=np.append(vec_m,m)\n",
    "    vec_x=np.append(vec_x,x)\n",
    "    vec_y=np.append(vec_y,y)\n",
    "    vec_z=np.append(vec_z,z)\n",
    "\n",
    "print vec_m\n",
    "print vec_z"
   ]
  },
  {
   "cell_type": "code",
   "execution_count": 27,
   "metadata": {
    "collapsed": false
   },
   "outputs": [
    {
     "data": {
      "image/png": "[encoded data removed]",
      "text/plain": [
       "<matplotlib.figure.Figure at 0x7f5a1333cd50>"
      ]
     },
     "metadata": {},
     "output_type": "display_data"
    },
    {
     "name": "stdout",
     "output_type": "stream",
     "text": [
      "-30012671.1131\n",
      "1.0\n"
     ]
    },
    {
     "data": {
      "image/png": "[encoded data removed]",
      "text/plain": [
       "<matplotlib.figure.Figure at 0x7f59e0604150>"
      ]
     },
     "metadata": {},
     "output_type": "display_data"
    },
    {
     "name": "stdout",
     "output_type": "stream",
     "text": [
      "[11.401469987742127, 24789189.609675862, 1.1134532473212146, -9648689.1472084634, -362.58247689809099, 36013.747453577431, -132.0704964307659, -1906330.1607868362, -26.941812786979643, 353468.22525043605]\n"
     ]
    }
   ],
   "source": [
    "import numpy as np\n",
    "import matplotlib.pyplot as plt\n",
    "import scipy.integrate as inte\n",
    "import scipy.stats as st\n",
    "%matplotlib inline\n",
    "\n",
    "#Constantes:\n",
    "Lsol = 1\n",
    "Mpc = 1\n",
    "\n",
    "alfa = -1\n",
    "L_0 = (10**10) * Lsol\n",
    "phi_0 = (10 * Mpc)**(-3)\n",
    "\n",
    "#funcion:\n",
    "\n",
    "def phi(L):\n",
    "    return (phi_0)*((L/ L_0)**alfa)*np.exp(-L/ L_0)\n",
    "\n",
    "L_1=10**9\n",
    "L_2=10**11\n",
    "x=np.linspace(L_1,L_2)\n",
    "\n",
    "plt.plot(x, phi(x))\n",
    "plt.show()\n",
    "\n",
    "I=inte.trapz(x,phi(x))\n",
    "\n",
    "print I\n",
    "\n",
    "def prob(L):\n",
    "    return phi(L)/I\n",
    "\n",
    "I_2=inte.trapz(x,prob(x))\n",
    "print I_2\n",
    "\n",
    "LL_1=4.6*10**11\n",
    "LL_2=4.7*10**11.5\n",
    "y=np.linspace(LL_1,LL_2)\n",
    "plt.plot(y, -1*prob(y))\n",
    "plt.show()\n",
    "\n",
    "\n",
    "probabilidad=[]\n",
    "for i in range (10):\n",
    "    n=100\n",
    "    ram=abs(npr.random_sample(n))*10**12\n",
    "    I=inte.trapz(ram, prob(ram))\n",
    "    probabilidad +=[I] \n",
    "\n",
    "print probabilidad \n",
    "\n",
    "#Formar Gaussiana\n",
    "#media=np.mean(prob(y))\n",
    "#print media\n",
    "#varianza=(np.std(x))**2\n",
    "#print varianza\n",
    "#plt.plot(x, st.norm.pdf(prob(x)), media, np.sqrt(varianza))\n",
    "\n",
    "\n"
   ]
  },
  {
   "cell_type": "code",
   "execution_count": 26,
   "metadata": {
    "collapsed": false
   },
   "outputs": [
    {
     "data": {
      "image/png": "[encoded data removed]",
      "text/plain": [
       "<matplotlib.figure.Figure at 0x7f59e0604b10>"
      ]
     },
     "metadata": {},
     "output_type": "display_data"
    },
    {
     "name": "stdout",
     "output_type": "stream",
     "text": [
      "-5.31764609929e+12\n",
      "1.0\n"
     ]
    },
    {
     "data": {
      "image/png": "[encoded data removed]",
      "text/plain": [
       "<matplotlib.figure.Figure at 0x7f59e09fb890>"
      ]
     },
     "metadata": {},
     "output_type": "display_data"
    },
    {
     "name": "stdout",
     "output_type": "stream",
     "text": [
      "0.110015834027\n",
      "[0.031711574049372526, -10600385068192.336, 0.028098886157422016, 5220578528060.1836, -0.085097889368036278, -358734145369.02637, 0.24647539945746347, -467699154949.05078, -0.36414534756481787, 412787585039.52405]\n"
     ]
    }
   ],
   "source": [
    "import numpy as np\n",
    "import matplotlib.pyplot as plt\n",
    "import scipy.integrate as inte\n",
    "import scipy.stats as st\n",
    "import numpy.random as npr\n",
    "%matplotlib inline\n",
    "\n",
    "#Constantes:\n",
    "Lsol = 1\n",
    "Mpc = 1\n",
    "\n",
    "alfa = -1\n",
    "L_0 = (10**10) * Lsol\n",
    "phi_0 = (10 * Mpc)**(-3)\n",
    "\n",
    "#funcion:\n",
    "\n",
    "def phi(L):\n",
    "    return np.log((phi_0)*((L/ L_0)**alfa)*np.exp(-L/ L_0))\n",
    "\n",
    "L_1=10**9\n",
    "L_2=10**11.5\n",
    "x=np.linspace(L_1,L_2)\n",
    "\n",
    "plt.plot(np.log(x)/L_0, phi(x))\n",
    "plt.show()\n",
    "\n",
    "I=inte.trapz(x,phi(x))\n",
    "print I\n",
    "\n",
    "def prob(L):\n",
    "    return phi(L)/I\n",
    "\n",
    "I_2=inte.trapz(x,prob(x))\n",
    "print I_2\n",
    "\n",
    "LL_1=1*10**9\n",
    "LL_2=1*10**11.5\n",
    "y=np.linspace(LL_1,LL_2)\n",
    "plt.plot(np.log(y), -1*prob(y))\n",
    "plt.show()\n",
    "\n",
    "\n",
    "#Calculando probabilidad:\n",
    "\n",
    "LLL_1=1*10**10\n",
    "LLL_2=1*10**11\n",
    "z=np.linspace(LLL_1,LLL_2)\n",
    "\n",
    "print inte.trapz(z,prob(z))\n",
    "\n",
    "#Formar Gaussiana\n",
    "#media=np.mean(prob(y))\n",
    "#print media\n",
    "#varianza=(np.std(x))**2\n",
    "#print varianza\n",
    "#plt.plot(x, st.norm.pdf(prob(x)), media, np.sqrt(varianza))\n",
    "\n",
    "probabilidad=[]\n",
    "for i in range (10):\n",
    "    n=100\n",
    "    ram=abs(npr.random_sample(n))*10**11\n",
    "    I=inte.trapz(ram, prob(ram))\n",
    "    probabilidad +=[I] \n",
    "\n",
    "print probabilidad "
   ]
  },
  {
   "cell_type": "code",
   "execution_count": null,
   "metadata": {
    "collapsed": true
   },
   "outputs": [],
   "source": []
  },
  {
   "cell_type": "code",
   "execution_count": null,
   "metadata": {
    "collapsed": true
   },
   "outputs": [],
   "source": []
  }
 ],
 "metadata": {
  "kernelspec": {
   "display_name": "Python [Root]",
   "language": "python",
   "name": "Python [Root]"
  },
  "language_info": {
   "codemirror_mode": {
    "name": "ipython",
    "version": 2
   },
   "file_extension": ".py",
   "mimetype": "text/x-python",
   "name": "python",
   "nbconvert_exporter": "python",
   "pygments_lexer": "ipython2",
   "version": "2.7.12"
  }
 },
 "nbformat": 4,
 "nbformat_minor": 0
}
